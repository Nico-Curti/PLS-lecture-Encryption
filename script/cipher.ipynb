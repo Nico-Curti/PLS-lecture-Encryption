{
 "cells": [
  {
   "cell_type": "code",
   "execution_count": 1,
   "id": "bbbccba0",
   "metadata": {},
   "outputs": [],
   "source": [
    "import string\n",
    "\n",
    "ALPHABET = 'abcdefghilmnopqrstuvz'\n",
    "PUNCTUATION = string.punctuation + ' ' + '\\n'\n",
    "\n",
    "# create a secure key\n",
    "key = 'scemo chi legge'\n",
    "# remove useless characters\n",
    "k = key.replace(' ', '')\n",
    "k = ''.join(dict.fromkeys(k))\n",
    "\n",
    "# get the original alphabet\n",
    "alphabet = ALPHABET + PUNCTUATION\n",
    "# create the new alphabet starting from the key values\n",
    "new_alphabet = k\n",
    "# append the other chars only if not already inserted\n",
    "for x in alphabet:\n",
    "    if x not in new_alphabet:\n",
    "        new_alphabet += x\n",
    "\n",
    "# get the encryption lut\n",
    "encrypter = {k : v for k, v in zip(alphabet, new_alphabet)}"
   ]
  },
  {
   "cell_type": "code",
   "execution_count": 2,
   "id": "ec6e0f8e",
   "metadata": {},
   "outputs": [
    {
     "name": "stdout",
     "output_type": "stream",
     "text": [
      "Messaggio Criptato\n",
      "====================\n",
      "\n",
      "ga eghqsqgf mg eorsqo nqodmo ga dfbo ms iguagf eorsqo, \n",
      "elo af utgagzzsvs efd a'gdtodtf mg nqftoiioqo g rufg borrsiig eqgntstg. \n",
      "iqszgo saaf rtfqgef rvotfdgf rsnngsbf elo eorsqo utgagzzsvs gd iodoqo \n",
      "uds elgsvo mg tqo noq ga eghqsqgf, efbo doa esrf moaas efqqgrnfdmodzs \n",
      "bgagtsqo gdvgsts saao tqunno efbsdmsto ms pugdtf tuaagf egeoqfdo. \n",
      "sa tobnf oqs rgeuqf noqelo iag svvoqrsqg rnorrf dfd oqsdf dosdelo gd \n",
      "iqsmf mg aoiioqo ud tortf gd elgsqf, bod elo bsg udf eghqstf; \n",
      "gdfatqo dfd orgrtovsdf botfmg mg eqgttsdsagrg gd iqsmf mg qfbnoqo tsao efmgeo, \n",
      "noq pusdtf csdsao.\n",
      "msaas refnoqts moaa'sdsagrg moaao hqopuodzo, tuttg g eghqsqg mg puortf tgnf \n",
      "rfdf mgvodutg bfatf robnageg ms qfbnoqo; dorrudf o smsttf noq efbudgeszgfdg \n",
      "rgeuqo saaf rtstf toedfafigef sttusao, do af o rtstf doiag uatgbg bgaao sddg. \n",
      "tuttsvgs, uds hfqbs mg puortf eghqsqgf o sdefqs ursts fiig noq fhhuresqo \n",
      "nsqtg mg ud borrsiigf gd bfmf ms dfd qodmoqao gbbomgstsbodto efbnqodrgcgag.\n"
     ]
    }
   ],
   "source": [
    "# Encrypt a message using Caesar substitution\n",
    "\n",
    "msg = '''Il cifrario di Cesare prende il nome da Giulio Cesare, \n",
    "che lo utilizzava con l'intento di proteggere i suoi messaggi criptati. \n",
    "Grazie allo storico Svetonio sappiamo che Cesare utilizzava in genere \n",
    "una chiave di tre per il cifrario, come nel caso della corrispondenza \n",
    "militare inviata alle truppe comandate da Quinto Tullio Cicerone. \n",
    "Al tempo era sicuro perche gli avversari spesso non erano neanche in \n",
    "grado di leggere un testo in chiaro, men che mai uno cifrato; \n",
    "inoltre non esistevano metodi di crittanalisi in grado di rompere tale codice, \n",
    "per quanto banale.\n",
    "Dalla scoperta dell'analisi delle frequenze, tutti i cifrari di questo tipo \n",
    "sono divenuti molto semplici da rompere; nessuno e adatto per comunicazioni \n",
    "sicure allo stato tecnologico attuale, ne lo e stato negli ultimi mille anni. \n",
    "Tuttavia, una forma di questo cifrario e ancora usata oggi per offuscare \n",
    "parti di un messaggio in modo da non renderle immediatamente comprensibili.'''\n",
    "\n",
    "# encrypt the message\n",
    "mapper = lambda x : encrypter[x]\n",
    "msg_enc = ''.join(map(mapper, msg.lower()))\n",
    "\n",
    "print('Messaggio Criptato\\n====================\\n')\n",
    "print(msg_enc)"
   ]
  },
  {
   "cell_type": "code",
   "execution_count": 9,
   "id": "6fa1b008",
   "metadata": {},
   "outputs": [
    {
     "data": {
      "text/plain": [
       "Text(0.5, 1.0, 'Italian Language Occurrencies')"
      ]
     },
     "execution_count": 9,
     "metadata": {},
     "output_type": "execute_result"
    },
    {
     "data": {
      "image/png": "[encoded data removed]",
      "text/plain": [
       "<Figure size 720x360 with 1 Axes>"
      ]
     },
     "metadata": {
      "needs_background": "light"
     },
     "output_type": "display_data"
    }
   ],
   "source": [
    "# get the letter frequency in the italian language\n",
    "\n",
    "import pylab as plt\n",
    "\n",
    "italian_freq = {'a': 10.96, 'b': 1.32, 'c': 5.05, 'd': 3.79,\n",
    "                'e': 11.35, 'f': 1.10, 'g': 1.82, 'h': 1.30,\n",
    "                'i': 10.78, \n",
    "                #'j': 0.02, 'k': 0.02, \n",
    "                'l': 6.39, \n",
    "                'm':  2.63, 'n': 6.96, 'o': 9.81, 'p': 2.89, \n",
    "                'q':  0.57, 'r': 6.44, 's': 5.35, 't': 5.76, \n",
    "                'u':  3.15, 'v': 1.90, #'w': 0.00, 'x': 0.08,\n",
    "                #'y':  0.01, \n",
    "                'z': 0.57,\n",
    "               }\n",
    "if 1:\n",
    "    italian_freq = {'a': 10.78, 'b': 0.56, 'c': 5.35, 'd': 3.79,\n",
    "                    'e': 11.35, 'f': 1.32, 'g': 1.90, 'h': 1.10,\n",
    "                    'i': 10.96, 'l': 5.76, 'm': 2.89, 'n': 6.96, \n",
    "                    'o':  9.81, 'p': 2.63, 'q': 0.58, 'r': 6.44, \n",
    "                    's':  5.05, 't': 6.39, 'u': 3.15, 'v': 1.82, \n",
    "                    'z':  1.30,\n",
    "                   }\n",
    "\n",
    "letter, perc = zip(*italian_freq.items())\n",
    "\n",
    "fig, ax = plt.subplots(nrows=1, ncols=1, figsize=(10, 5))\n",
    "ax.bar(range(0, len(italian_freq)), perc, color='royalblue', alpha=.5)\n",
    "_ = ax.set_xticks(range(0, len(italian_freq)))\n",
    "_ = ax.set_xticklabels(letter)\n",
    "ax.set_xlabel('Letter')\n",
    "ax.set_ylabel('Frequency')\n",
    "ax.set_title('Italian Language Occurrencies')"
   ]
  },
  {
   "cell_type": "code",
   "execution_count": 10,
   "id": "b23ab373",
   "metadata": {},
   "outputs": [],
   "source": [
    "# evaluate the occurrencies of the encrypted msg\n",
    "\n",
    "from collections import Counter\n",
    "\n",
    "# compute the occurrencies\n",
    "occ = Counter(msg_enc)\n",
    "num_char = 100./len(msg_enc)        \n",
    "        \n",
    "# filter the punctuations\n",
    "occ = [(k, v*num_char) for k, v in occ.items() if k in ALPHABET]\n",
    "occ = sorted(occ, key=lambda x: x[1])[::-1]"
   ]
  },
  {
   "cell_type": "code",
   "execution_count": 11,
   "id": "d3cb6ed8",
   "metadata": {},
   "outputs": [
    {
     "data": {
      "text/plain": [
       "Text(0, 0.5, 'Frequency')"
      ]
     },
     "execution_count": 11,
     "metadata": {},
     "output_type": "execute_result"
    },
    {
     "data": {
      "image/png": "[encoded data removed]",
      "text/plain": [
       "<Figure size 1440x360 with 2 Axes>"
      ]
     },
     "metadata": {
      "needs_background": "light"
     },
     "output_type": "display_data"
    }
   ],
   "source": [
    "import numpy as np\n",
    "letter, perc = zip(*italian_freq.items())\n",
    "\n",
    "fig, (ax1, ax2) = plt.subplots(nrows=1, ncols=2, figsize=(20, 5))\n",
    "ax1.bar(range(0, len(italian_freq)), perc, color='royalblue', alpha=0.5)\n",
    "_ = ax1.set_xticks(range(0, len(italian_freq)))\n",
    "_ = ax1.set_xticklabels(letter)\n",
    "ax1.set_title('Italian Alphabet')\n",
    "ax1.set_xlabel('Letter')\n",
    "ax1.set_ylabel('Frequency')\n",
    "\n",
    "letter, perc = zip(*sorted(occ, key=lambda x : x[0]))\n",
    "ax2.bar(range(0, len(occ)), perc, color='orange', alpha=.5)\n",
    "_ = ax2.set_xticks(range(0, len(occ)))\n",
    "_ = ax2.set_xticklabels(letter)\n",
    "ax2.set_title('Encrypted Alphabet')\n",
    "ax2.set_xlabel('Letter')\n",
    "ax2.set_ylabel('Frequency')"
   ]
  },
  {
   "cell_type": "code",
   "execution_count": 12,
   "id": "5ed7f1a8",
   "metadata": {
    "scrolled": false
   },
   "outputs": [],
   "source": [
    "# remap the letter into the decrypter\n",
    "\n",
    "ita = [(k, v) for k, v in italian_freq.items()]\n",
    "ita = sorted(ita, key=lambda x: x[1])[::-1]\n",
    "\n",
    "decrypter = {y[0] : x[0] for x, y in zip(ita, occ)}\n",
    "decrypter.update({k : k for k in PUNCTUATION})"
   ]
  },
  {
   "cell_type": "code",
   "execution_count": 13,
   "id": "49d00559",
   "metadata": {},
   "outputs": [
    {
     "name": "stdout",
     "output_type": "stream",
     "text": [
      "Messaggio Criptato\n",
      "====================\n",
      "\n",
      "ga eghqsqgf mg eorsqo nqodmo ga dfbo ms iguagf eorsqo, \n",
      "elo af utgagzzsvs efd a'gdtodtf mg nqftoiioqo g rufg borrsiig eqgntstg. \n",
      "iqszgo saaf rtfqgef rvotfdgf rsnngsbf elo eorsqo utgagzzsvs gd iodoqo \n",
      "uds elgsvo mg tqo noq ga eghqsqgf, efbo doa esrf moaas efqqgrnfdmodzs \n",
      "bgagtsqo gdvgsts saao tqunno efbsdmsto ms pugdtf tuaagf egeoqfdo. \n",
      "sa tobnf oqs rgeuqf noqelo iag svvoqrsqg rnorrf dfd oqsdf dosdelo gd \n",
      "iqsmf mg aoiioqo ud tortf gd elgsqf, bod elo bsg udf eghqstf; \n",
      "gdfatqo dfd orgrtovsdf botfmg mg eqgttsdsagrg gd iqsmf mg qfbnoqo tsao efmgeo, \n",
      "noq pusdtf csdsao.\n",
      "msaas refnoqts moaa'sdsagrg moaao hqopuodzo, tuttg g eghqsqg mg puortf tgnf \n",
      "rfdf mgvodutg bfatf robnageg ms qfbnoqo; dorrudf o smsttf noq efbudgeszgfdg \n",
      "rgeuqo saaf rtstf toedfafigef sttusao, do af o rtstf doiag uatgbg bgaao sddg. \n",
      "tuttsvgs, uds hfqbs mg puortf eghqsqgf o sdefqs ursts fiig noq fhhuresqo \n",
      "nsqtg mg ud borrsiigf gd bfmf ms dfd qodmoqao gbbomgstsbodto efbnqodrgcgag.\n",
      "\n",
      "Messaggio DE-Criptato\n",
      "====================\n",
      "\n",
      "il cifrario di cesare prende il nome da giulio cesare, \n",
      "che lo utilizzava con l'intento di proteggere i suoi messaggi criptati. \n",
      "grazie allo storico svetonio sappiamo che cesare utilizzava in genere \n",
      "una chiave di tre per il cifrario, come nel caso della corrispondenza \n",
      "militare inviata alle truppe comandate da quinto tullio cicerone. \n",
      "al tempo era sicuro perche gli avversari spesso non erano neanche in \n",
      "grado di leggere un testo in chiaro, men che mai uno cifrato; \n",
      "inoltre non esistevano metodi di crittanalisi in grado di rompere tale codice, \n",
      "per quanto banale.\n",
      "dalla scoperta dell'analisi delle frequenze, tutti i cifrari di questo tipo \n",
      "sono divenuti molto semplici da rompere; nessuno e adatto per comunicazioni \n",
      "sicure allo stato tecnologico attuale, ne lo e stato negli ultimi mille anni. \n",
      "tuttavia, una forma di questo cifrario e ancora usata oggi per offuscare \n",
      "parti di un messaggio in modo da non renderle immediatamente comprensibili.\n"
     ]
    }
   ],
   "source": [
    "# decrypt the message remapping\n",
    "\n",
    "mapper = lambda x : decrypter[x]\n",
    "msg_dec = ''.join(map(mapper, msg_enc))\n",
    "\n",
    "print('Messaggio Criptato\\n====================\\n')\n",
    "print(msg_enc)\n",
    "print('')\n",
    "\n",
    "print('Messaggio DE-Criptato\\n====================\\n')\n",
    "print(msg_dec)"
   ]
  },
  {
   "cell_type": "code",
   "execution_count": 380,
   "id": "a37fcf8b",
   "metadata": {},
   "outputs": [
    {
     "data": {
      "text/plain": [
       "[('s', 'a'),\n",
       " ('c', 'b'),\n",
       " ('e', 'c'),\n",
       " ('m', 'd'),\n",
       " ('o', 'e'),\n",
       " ('h', 'f'),\n",
       " ('i', 'g'),\n",
       " ('l', 'h'),\n",
       " ('g', 'i'),\n",
       " ('a', 'l'),\n",
       " ('b', 'm'),\n",
       " ('d', 'n'),\n",
       " ('f', 'o'),\n",
       " ('n', 'p'),\n",
       " ('p', 'q'),\n",
       " ('q', 'r'),\n",
       " ('r', 's'),\n",
       " ('t', 't'),\n",
       " ('u', 'u'),\n",
       " ('v', 'v'),\n",
       " ('z', 'z')]"
      ]
     },
     "execution_count": 380,
     "metadata": {},
     "output_type": "execute_result"
    }
   ],
   "source": [
    "# try to get the encryption key from the alphabet order\n",
    "dec = [(k, v) for k, v in decrypter.items() if k not in PUNCTUATION]\n",
    "sorted(dec, key=lambda x: x[1])"
   ]
  }
 ],
 "metadata": {
  "kernelspec": {
   "display_name": "Python 3 (ipykernel)",
   "language": "python",
   "name": "python3"
  },
  "language_info": {
   "codemirror_mode": {
    "name": "ipython",
    "version": 3
   },
   "file_extension": ".py",
   "mimetype": "text/x-python",
   "name": "python",
   "nbconvert_exporter": "python",
   "pygments_lexer": "ipython3",
   "version": "3.9.5"
  }
 },
 "nbformat": 4,
 "nbformat_minor": 5
}
